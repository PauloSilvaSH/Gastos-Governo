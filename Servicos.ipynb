{
 "cells": [
  {
   "cell_type": "code",
   "execution_count": 30,
   "metadata": {},
   "outputs": [],
   "source": [
    "# Databricks notebook source\n",
    "\n",
    "#Importando Biblioteca\n",
    "\n",
    "import pandas as pd\n",
    "import requests \n",
    "import io\n"
   ]
  },
  {
   "cell_type": "code",
   "execution_count": 31,
   "metadata": {},
   "outputs": [
    {
     "data": {
      "text/plain": [
       "200"
      ]
     },
     "execution_count": 31,
     "metadata": {},
     "output_type": "execute_result"
    }
   ],
   "source": [
    "#Capturando Dados\n",
    "url = \"https://compras.dados.gov.br/servicos/v1/servicos.csv\"\n",
    "data = requests.get(url)\n",
    "data.status_code"
   ]
  },
  {
   "cell_type": "code",
   "execution_count": 32,
   "metadata": {},
   "outputs": [
    {
     "data": {
      "text/plain": [
       "DataFrame[Código: bigint, Descrição: string, Unidade medida: string, CPC: double, Seção: string, Divisão: string, Grupo: string, Classe: string, Subclasse: string]"
      ]
     },
     "metadata": {},
     "output_type": "display_data"
    }
   ],
   "source": [
    "df = pd.read_csv(url)\n",
    "df = spark.createDataFrame(df)\n",
    "\n",
    "display(df) "
   ]
  },
  {
   "cell_type": "code",
   "execution_count": 34,
   "metadata": {},
   "outputs": [],
   "source": [
    "df = (df\n",
    "      .withColumnRenamed('Código','codigo')\n",
    "      .withColumnRenamed('Descrição','descricao')\n",
    "      .withColumnRenamed('Unidade medida','unidade_medida')\n",
    "      .withColumnRenamed('CPC','cpc')\n",
    "      .withColumnRenamed('Seção','secao')\n",
    "      .withColumnRenamed('Divisão','divisao')\n",
    "      .withColumnRenamed('Grupo','grupo')\n",
    "      .withColumnRenamed('Classe','classe')\n",
    "      .withColumnRenamed('Subclasse','subclasse')\n",
    "      )\n"
   ]
  },
  {
   "cell_type": "code",
   "execution_count": 41,
   "metadata": {},
   "outputs": [],
   "source": [
    "#Salvando a tabela\n",
    "df.write.mode(\"overwrite\").saveAsTable(\"tb_servicos\")"
   ]
  }
 ],
 "metadata": {
  "kernelspec": {
   "display_name": "Python 3",
   "language": "python",
   "name": "python3"
  },
  "language_info": {
   "codemirror_mode": {
    "name": "ipython",
    "version": 3
   },
   "file_extension": ".py",
   "mimetype": "text/x-python",
   "name": "python",
   "nbconvert_exporter": "python",
   "pygments_lexer": "ipython3",
   "version": "3.12.6"
  }
 },
 "nbformat": 4,
 "nbformat_minor": 2
}
