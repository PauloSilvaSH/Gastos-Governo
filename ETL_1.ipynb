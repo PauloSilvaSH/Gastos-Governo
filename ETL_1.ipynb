{
 "cells": [
  {
   "cell_type": "code",
   "execution_count": 1,
   "metadata": {},
   "outputs": [],
   "source": [
    "# Databricks notebook source\n",
    "\n",
    "#Importando biblioteca\n",
    "import pyspark.sql.functions as F"
   ]
  },
  {
   "cell_type": "code",
   "execution_count": null,
   "metadata": {},
   "outputs": [],
   "source": [
    "#criando valores\n",
    "dbutils.widgets.text(\"schema\",\"\")\n",
    "dbutils.widgets.text(\"table\",\"\")\n",
    "\n",
    "#Alterando valores inseridos\n",
    "schema = dbutils.widgets.get(\"schema\")\n",
    "table = dbutils.widgets.get(\"table\")"
   ]
  },
  {
   "cell_type": "code",
   "execution_count": null,
   "metadata": {},
   "outputs": [],
   "source": [
    "#Consultando valores\n",
    "df = spark.sql(f\"select * from {schema}.{table}\")\n",
    "display(df)"
   ]
  },
  {
   "cell_type": "code",
   "execution_count": null,
   "metadata": {},
   "outputs": [],
   "source": [
    "#Limpeza e transformação de dados\n",
    "df_silver = (\n",
    "    df.where(\"descricao is not null\")\n",
    "        .withColumn(\"row_number\", F.expr(\"row_number() over(partition by codigo order by codigo)\"))\n",
    "        .where(\"row_number = 1\")\n",
    "        .drop(\"row_number\")\n",
    "        .withColumn(\"codigo\", F.col(\"codigo\").cast(\"string\"))\n",
    "        .withColumn(\"cpc\", F.col(\"cpc\").cast(\"string\"))\n",
    "        .withColumn(\"date_partition\",F.current_date())\n",
    ")\n",
    "\n",
    "display(df_silver)"
   ]
  },
  {
   "cell_type": "code",
   "execution_count": null,
   "metadata": {},
   "outputs": [],
   "source": [
    "#Salvando os dados\n",
    "df_silver.write.mode(\"overwrite\")\\\n",
    "         .format(\"delta\")\\\n",
    "         .partitionBy(\"date_partition\")\\\n",
    "         .option(\"compression\",\"snappy\")\\\n",
    "         .saveAsTable(\"tb_servicos_silver\")"
   ]
  }
 ],
 "metadata": {
  "kernelspec": {
   "display_name": "Python 3",
   "language": "python",
   "name": "python3"
  },
  "language_info": {
   "codemirror_mode": {
    "name": "ipython",
    "version": 3
   },
   "file_extension": ".py",
   "mimetype": "text/x-python",
   "name": "python",
   "nbconvert_exporter": "python",
   "pygments_lexer": "ipython3",
   "version": "3.12.6"
  }
 },
 "nbformat": 4,
 "nbformat_minor": 2
}
